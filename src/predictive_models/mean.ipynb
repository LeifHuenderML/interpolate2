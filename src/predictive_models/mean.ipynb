{
 "cells": [
  {
   "cell_type": "code",
   "execution_count": 10,
   "metadata": {},
   "outputs": [
    {
     "name": "stdout",
     "output_type": "stream",
     "text": [
      "Succesfully imported all libraries\n"
     ]
    }
   ],
   "source": [
    "# import all nessecary libraries\n",
    "import sklearn\n",
    "import numpy as np\n",
    "import pandas as pd\n",
    "from plotly import express as px\n",
    "from plotly import graph_objects as go\n",
    "from sklearn.model_selection import train_test_split\n",
    "from sklearn.dummy import DummyRegressor\n",
    "import time\n",
    "from sklearn.metrics import mean_squared_error\n",
    "\n",
    "print(\"Succesfully imported all libraries\")"
   ]
  },
  {
   "cell_type": "code",
   "execution_count": 11,
   "metadata": {},
   "outputs": [
    {
     "name": "stdout",
     "output_type": "stream",
     "text": [
      "0.0004963874816894531\n",
      "RMSE: 484.53549791753005\n"
     ]
    }
   ],
   "source": [
    "df = pd.read_csv(\"../../data/pecan/sim_score_and_yield_v2_05_23_24.csv\")\n",
    "\n",
    "x = df.drop(columns=[\"yield\", 'city_names', 'Similarity Type']) \n",
    "y = df['yield']\n",
    "\n",
    "scaler = sklearn.preprocessing.StandardScaler()\n",
    "x = scaler.fit_transform(x)\n",
    "x_train, x_test, y_train, y_test = train_test_split(x, y, test_size=0.2, random_state=42)\n",
    "\n",
    "dummy = DummyRegressor(strategy='mean')\n",
    "start = time.time()\n",
    "dummy.fit(x_train, y_train)\n",
    "print(time.time()-start)\n",
    "dummy_pred = dummy.predict(x_test)\n",
    "rmse = mean_squared_error(y_test, dummy_pred, squared=False)\n",
    "print(f\"RMSE: {rmse}\")"
   ]
  },
  {
   "cell_type": "code",
   "execution_count": null,
   "metadata": {},
   "outputs": [],
   "source": []
  }
 ],
 "metadata": {
  "kernelspec": {
   "display_name": "interpolate",
   "language": "python",
   "name": "python3"
  },
  "language_info": {
   "codemirror_mode": {
    "name": "ipython",
    "version": 3
   },
   "file_extension": ".py",
   "mimetype": "text/x-python",
   "name": "python",
   "nbconvert_exporter": "python",
   "pygments_lexer": "ipython3",
   "version": "3.8.19"
  }
 },
 "nbformat": 4,
 "nbformat_minor": 2
}
