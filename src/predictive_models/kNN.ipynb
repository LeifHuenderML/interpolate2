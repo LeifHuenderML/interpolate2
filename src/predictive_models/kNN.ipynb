{
 "cells": [
  {
   "cell_type": "code",
   "execution_count": null,
   "metadata": {},
   "outputs": [],
   "source": [
    "def val_one_epoch(self):\n",
    "        self.model.eval()\n",
    "        epoch_loss = 0\n",
    "        with torch.no_grad():\n",
    "            for data, targets in self.validation_loader:\n",
    "                data = data.to(self.device)\n",
    "                targets = targets.to(self.device)\n",
    "                outputs = self.model(data)\n",
    "                loss = self.criterion(outputs, targets)\n",
    "                epoch_loss += loss.item()\n",
    "        return epoch_loss / len(self.validation_loader)"
   ]
  }
 ],
 "metadata": {
  "language_info": {
   "name": "python"
  }
 },
 "nbformat": 4,
 "nbformat_minor": 2
}
