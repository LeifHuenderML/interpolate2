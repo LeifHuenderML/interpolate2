{
 "cells": [
  {
   "cell_type": "code",
   "execution_count": 1,
   "metadata": {},
   "outputs": [
    {
     "name": "stdout",
     "output_type": "stream",
     "text": [
      "Libraries loaded successfully\n"
     ]
    }
   ],
   "source": [
    "# load libraries\n",
    "import lstm\n",
    "import torch\n",
    "import queue\n",
    "import threading\n",
    "import numpy as np \n",
    "import pandas as pd\n",
    "import torch.nn as nn\n",
    "import plotly.express as px\n",
    "import plotly.graph_objects as go\n",
    "from sklearn.preprocessing import MinMaxScaler\n",
    "from torch.utils.data import DataLoader, TensorDataset, random_split\n",
    "\n",
    "print(\"Libraries loaded successfully\")"
   ]
  },
  {
   "cell_type": "code",
   "execution_count": 2,
   "metadata": {},
   "outputs": [],
   "source": [
    "x_train = pd.read_csv('../../../data/pecan/dataset4/x_train_05_27_24.csv')\n",
    "y_train = pd.read_csv('../../../data/pecan/dataset4/y_train_05_27_24.csv')\n",
    "x_test = pd.read_csv('../../../data/pecan/dataset4/x_test_05_27_24.csv')\n",
    "y_test = pd.read_csv('../../../data/pecan/dataset4/y_test_05_27_24.csv')"
   ]
  },
  {
   "cell_type": "code",
   "execution_count": 3,
   "metadata": {},
   "outputs": [
    {
     "name": "stdout",
     "output_type": "stream",
     "text": [
      "torch.Size([15, 1, 122976]) torch.Size([15, 1])\n"
     ]
    }
   ],
   "source": [
    "X = torch.tensor(x_train.values, dtype=torch.float32)\n",
    "Y = torch.tensor(y_train.values, dtype=torch.float32)\n",
    "\n",
    "sequence_length = 1  # xrbitrary number chosen\n",
    "\n",
    "\n",
    "def create_sequences(X, Y, seq_length):\n",
    "    xs, ys = [], []\n",
    "    for i in range(len(X) - seq_length):\n",
    "        x = X[i:i+seq_length]\n",
    "        y = Y[i+seq_length]\n",
    "        xs.append(x)\n",
    "        ys.append(y)\n",
    "    return torch.stack(xs), torch.stack(ys)\n",
    "\n",
    "X, y = create_sequences(X, Y, sequence_length)\n",
    "\n",
    "\n",
    "print(X.shape, y.shape) \n"
   ]
  },
  {
   "cell_type": "code",
   "execution_count": 4,
   "metadata": {},
   "outputs": [
    {
     "name": "stdout",
     "output_type": "stream",
     "text": [
      "Train Dataset size: 12 \n",
      "Validation Dataset size 2\n",
      "Test Dataset size 1\n"
     ]
    }
   ],
   "source": [
    "dataset = TensorDataset(X, y)\n",
    "\n",
    "train_size = int(0.8 * len(dataset))\n",
    "val_size = len(dataset) - train_size\n",
    "new_val_size = int(0.8 * val_size)\n",
    "test_size = val_size - new_val_size\n",
    "\n",
    "generator = torch.Generator().manual_seed(42)\n",
    "\n",
    "train_dataset, val_dataset = random_split(dataset, [train_size, val_size], generator=generator)\n",
    "val_dataset, test_dataset = random_split(val_dataset, [new_val_size, test_size], generator=generator)\n",
    "\n",
    "print(f'Train Dataset size: {len(train_dataset)} \\nValidation Dataset size {len(val_dataset)}\\nTest Dataset size {len(test_dataset)}')\n",
    "\n",
    "train_loader = DataLoader(train_dataset, batch_size=32, shuffle=False)\n",
    "val_loader = DataLoader(val_dataset, batch_size=32, shuffle=False)\n",
    "test_loader = DataLoader(test_dataset, batch_size=32, shuffle=False)"
   ]
  },
  {
   "cell_type": "code",
   "execution_count": 5,
   "metadata": {},
   "outputs": [],
   "source": [
    "# load libraries\n",
    "import json\n",
    "import torch\n",
    "import queue\n",
    "import threading\n",
    "import numpy as np \n",
    "import pandas as pd\n",
    "import torch.nn as nn\n",
    "import plotly.express as px\n",
    "import plotly.graph_objects as go\n",
    "from sklearn.preprocessing import MinMaxScaler\n",
    "from torch.utils.data import DataLoader, TensorDataset, random_split\n",
    "\n",
    "\n",
    "\n",
    "\n",
    "class LSTM(nn.Module):\n",
    "    def __init__(self, input_size=122976, hidden_size=1280, num_layers=20, patience=10, min_delta=10):\n",
    "        super(LSTM, self).__init__()\n",
    "\n",
    "        self.input_size = input_size\n",
    "        self.hidden_size = hidden_size\n",
    "        self.num_layers = num_layers\n",
    "\n",
    "        self.lstm = nn.LSTM(input_size, hidden_size, num_layers, batch_first=True)\n",
    "        self.fc = nn.Linear(hidden_size, 1)\n",
    "        \n",
    "        self.activations = []\n",
    "        #member vars for the early stopper\n",
    "        self.patience = patience\n",
    "        self.min_delta = min_delta\n",
    "        self.min_validation_loss = float('inf')\n",
    "\n",
    "    def forward(self, x):\n",
    "        batch_size = x.size(0)\n",
    "        h0 = torch.zeros(self.num_layers, batch_size, self.hidden_size).to(x.device)\n",
    "        c0 = torch.zeros(self.num_layers, batch_size, self.hidden_size).to(x.device)\n",
    "        out, _ = self.lstm(x, (h0, c0))\n",
    "        out = self.fc(out[:, -1, :])\n",
    "        self.activations.append(out.squeeze())\n",
    "        return out.squeeze()\n",
    "\n",
    "    def early_stop(self, validation_loss):\n",
    "        if validation_loss < self.min_validation_loss:\n",
    "            self.min_validation_loss = validation_loss\n",
    "            self.counter = 0\n",
    "        elif validation_loss > (self.min_validation_loss - self.min_delta):\n",
    "            self.counter +=1\n",
    "            if self.counter >= self.patience:\n",
    "                return True\n",
    "        return False\n",
    "\n",
    "class Trainer():\n",
    "    def __init__(self, model, train_loader, validation_loader, device, criterion=nn.MSELoss(), lr=0.001, num_epochs=10000):\n",
    "        self.model = model\n",
    "        self.train_loader = train_loader\n",
    "        self.validation_loader = validation_loader\n",
    "        self.criterion = criterion\n",
    "        self.lr = lr\n",
    "        self.num_epochs = num_epochs\n",
    "        self.device = device\n",
    "        self.optimizer = torch.optim.Adam(model.parameters(), lr=self.lr)\n",
    "        self.train_losses = []\n",
    "        self.val_losses = []\n",
    "        self.loss = None\n",
    "\n",
    "    def train_one_epoch(self):\n",
    "        self.model.train()\n",
    "        epoch_loss = 0\n",
    "        for data, targets in self.train_loader:\n",
    "            data = data.to(self.device)\n",
    "            targets = targets.to(self.device)\n",
    "\n",
    "            self.optimizer.zero_grad()\n",
    "            outputs = self.model(data)\n",
    "            loss = self.criterion(outputs, targets)\n",
    "            loss.backward()\n",
    "            self.optimizer.step()\n",
    "            epoch_loss += loss.item()\n",
    "        return epoch_loss / len(self.train_loader)\n",
    "\n",
    "    def val_one_epoch(self):\n",
    "        self.model.eval()\n",
    "        epoch_loss = 0\n",
    "        with torch.no_grad():\n",
    "            for data, targets in self.validation_loader:\n",
    "                data = data.to(self.device)\n",
    "                targets = targets.to(self.device)\n",
    "                outputs = self.model(data)\n",
    "                loss = self.criterion(outputs, targets)\n",
    "                epoch_loss += loss.item()\n",
    "        return epoch_loss / len(self.validation_loader)\n",
    "        \n",
    "    def train(self):\n",
    "        for epoch in np.arange(self.num_epochs):\n",
    "            train_loss = self.train_one_epoch()\n",
    "            val_loss = self.val_one_epoch()\n",
    "            \n",
    "            self.train_losses.append(train_loss)\n",
    "            self.val_losses.append(val_loss)\n",
    "\n",
    "            if(epoch % 100 == 0):\n",
    "                print(f'Epoch: {epoch} Train Loss: {train_loss} Validation Loss: {val_loss}')\n",
    "\n",
    "            if self.model.early_stop(val_loss):\n",
    "                break\n",
    "            \n",
    "        print('#'*100)\n",
    "        print(f'Final Epoch: {epoch} Train Loss: {train_loss} Validation Loss: {val_loss}')\n",
    "        return self.model, self.train_losses, self.val_losses\n"
   ]
  },
  {
   "cell_type": "code",
   "execution_count": 6,
   "metadata": {},
   "outputs": [
    {
     "name": "stdout",
     "output_type": "stream",
     "text": [
      "Device set to: cuda\n"
     ]
    }
   ],
   "source": [
    "# set device \n",
    "device = torch.device('cuda' if torch.cuda.is_available() else 'cpu')\n",
    "print(\"Device set to:\", device)\n",
    "\n",
    "model = LSTM().to(device)\n",
    "# trainer = Trainer(model, train_loader, val_loader, device)\n",
    "# model, train_losses, val_losses = trainer.train()"
   ]
  },
  {
   "cell_type": "code",
   "execution_count": 7,
   "metadata": {},
   "outputs": [
    {
     "data": {
      "text/plain": [
       "==========================================================================================\n",
       "Layer (type:depth-idx)                   Output Shape              Param #\n",
       "==========================================================================================\n",
       "LSTM                                     --                        --\n",
       "├─LSTM: 1-1                              [1, 32, 1280]             885,432,320\n",
       "├─Linear: 1-2                            [1, 1]                    1,281\n",
       "==========================================================================================\n",
       "Total params: 885,433,601\n",
       "Trainable params: 885,433,601\n",
       "Non-trainable params: 0\n",
       "Total mult-adds (G): 28.33\n",
       "==========================================================================================\n",
       "Input size (MB): 15.74\n",
       "Forward/backward pass size (MB): 0.33\n",
       "Params size (MB): 3541.73\n",
       "Estimated Total Size (MB): 3557.80\n",
       "=========================================================================================="
      ]
     },
     "execution_count": 7,
     "metadata": {},
     "output_type": "execute_result"
    }
   ],
   "source": [
    "import torchinfo\n",
    "\n",
    "torchinfo.summary(model, input_size=(1,32,122976))"
   ]
  },
  {
   "cell_type": "code",
   "execution_count": null,
   "metadata": {},
   "outputs": [],
   "source": []
  },
  {
   "cell_type": "code",
   "execution_count": null,
   "metadata": {},
   "outputs": [],
   "source": []
  },
  {
   "cell_type": "code",
   "execution_count": null,
   "metadata": {},
   "outputs": [],
   "source": []
  },
  {
   "cell_type": "code",
   "execution_count": null,
   "metadata": {},
   "outputs": [],
   "source": []
  },
  {
   "cell_type": "code",
   "execution_count": null,
   "metadata": {},
   "outputs": [],
   "source": []
  },
  {
   "cell_type": "code",
   "execution_count": null,
   "metadata": {},
   "outputs": [],
   "source": []
  },
  {
   "cell_type": "code",
   "execution_count": null,
   "metadata": {},
   "outputs": [],
   "source": []
  },
  {
   "cell_type": "code",
   "execution_count": null,
   "metadata": {},
   "outputs": [],
   "source": []
  }
 ],
 "metadata": {
  "kernelspec": {
   "display_name": "interpolate",
   "language": "python",
   "name": "python3"
  },
  "language_info": {
   "codemirror_mode": {
    "name": "ipython",
    "version": 3
   },
   "file_extension": ".py",
   "mimetype": "text/x-python",
   "name": "python",
   "nbconvert_exporter": "python",
   "pygments_lexer": "ipython3",
   "version": "3.8.19"
  }
 },
 "nbformat": 4,
 "nbformat_minor": 2
}
