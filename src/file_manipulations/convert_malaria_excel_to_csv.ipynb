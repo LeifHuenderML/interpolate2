{
 "cells": [
  {
   "cell_type": "code",
   "execution_count": 2,
   "metadata": {},
   "outputs": [
    {
     "name": "stdout",
     "output_type": "stream",
     "text": [
      "Done\n"
     ]
    }
   ],
   "source": [
    "#converts the malaria dataset file to a csv for easy data manipulation\n",
    "import pandas as pd\n",
    "import openpyxl\n",
    "print(\"Done\")\n",
    "\n",
    "\n",
    "malaria_dataset = pd.ExcelFile('../../data/malaria_data/MTM_INVASIVE_VECTOR_SPECIES_20240308(5).xlsx')\n",
    "\n",
    "csv_file_path = '../../data/malaria_data/malaria_outbreak_dataset.csv'\n",
    "\n",
    "first_sheet = True\n",
    "\n",
    "for sheet_name in malaria_dataset.sheet_names:\n",
    "    df = pd.read_excel(malaria_dataset, sheet_name=sheet_name)\n",
    "\n",
    "    if first_sheet:\n",
    "        df.to_csv(csv_file_path, mode='w', index=False, header=True)\n",
    "        first_sheet = False  \n",
    "    else:\n",
    "        df.to_csv(csv_file_path, mode='a', index=False, header=False)"
   ]
  }
 ],
 "metadata": {
  "kernelspec": {
   "display_name": "interpolate",
   "language": "python",
   "name": "python3"
  },
  "language_info": {
   "codemirror_mode": {
    "name": "ipython",
    "version": 3
   },
   "file_extension": ".py",
   "mimetype": "text/x-python",
   "name": "python",
   "nbconvert_exporter": "python",
   "pygments_lexer": "ipython3",
   "version": "3.8.18"
  }
 },
 "nbformat": 4,
 "nbformat_minor": 2
}
